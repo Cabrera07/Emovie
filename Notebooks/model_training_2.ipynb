{
 "cells": [
  {
   "cell_type": "markdown",
   "metadata": {},
   "source": [
    "----------------------------\n",
    "# **Creación del Modelo y Evalución**\n",
    "------------------------ "
   ]
  },
  {
   "cell_type": "markdown",
   "metadata": {},
   "source": [
    "-------------------\n",
    "------------------\n",
    "## **1.** **Importar Librerias**\n",
    "-------------------\n",
    "------------------"
   ]
  },
  {
   "cell_type": "code",
   "execution_count": 24,
   "metadata": {},
   "outputs": [],
   "source": [
    "# Importing libraries\n",
    "import pandas as pd\n",
    "import numpy as np\n",
    "import matplotlib.pyplot as plt\n",
    "from sklearn.preprocessing import MultiLabelBinarizer\n",
    "from sklearn.model_selection import train_test_split\n",
    "import tensorflow as tf\n",
    "from tensorflow.keras.models import Model\n",
    "from tensorflow.keras.layers import Input, Dense, Dropout\n",
    "from tensorflow.keras.regularizers import l2"
   ]
  },
  {
   "cell_type": "markdown",
   "metadata": {},
   "source": [
    "-------------------\n",
    "------------------\n",
    "## **2.** **Cargar Datos Procesados**\n",
    "-------------------\n",
    "------------------"
   ]
  },
  {
   "cell_type": "code",
   "execution_count": 25,
   "metadata": {},
   "outputs": [],
   "source": [
    "# Load Processed Data\n",
    "movies_path = '../Data/Processed/processed_movies.csv'\n",
    "movies = pd.read_csv(movies_path)"
   ]
  },
  {
   "cell_type": "markdown",
   "metadata": {},
   "source": [
    "-------------------\n",
    "------------------\n",
    "## **3.** **Preprocesamiento de Emociones**\n",
    "-------------------\n",
    "------------------"
   ]
  },
  {
   "cell_type": "code",
   "execution_count": 26,
   "metadata": {},
   "outputs": [],
   "source": [
    "# Emotion Preprocessing\n",
    "movies['emotions_list'] = movies['emotions'].apply(lambda x: eval(x))\n",
    "\n",
    "# Binarize the emotions\n",
    "mlb = MultiLabelBinarizer()\n",
    "emotions_binarized = mlb.fit_transform(movies['emotions_list'])\n",
    "\n",
    "# Split the data into training and testing sets\n",
    "X_train, X_test, y_train, y_test = train_test_split(emotions_binarized, movies['average_rating'], test_size=0.2, random_state=42)"
   ]
  },
  {
   "cell_type": "markdown",
   "metadata": {},
   "source": [
    "-------------------\n",
    "------------------\n",
    "## **4.** **Definir el Modelo**\n",
    "-------------------\n",
    "------------------"
   ]
  },
  {
   "cell_type": "code",
   "execution_count": 27,
   "metadata": {},
   "outputs": [],
   "source": [
    "# Define the model\n",
    "input_layer = Input(shape=(emotions_binarized.shape[1],))\n",
    "x = Dense(256, activation='relu', kernel_regularizer=l2(0.01))(input_layer)\n",
    "x = Dropout(0.3)(x)\n",
    "x = Dense(128, activation='relu', kernel_regularizer=l2(0.01))(x)\n",
    "x = Dropout(0.3)(x)\n",
    "x = Dense(64, activation='relu', kernel_regularizer=l2(0.01))(x)\n",
    "x = Dropout(0.3)(x)\n",
    "output_layer = Dense(1, activation='linear')(x)\n",
    "\n",
    "model = Model(inputs=input_layer, outputs=output_layer)\n",
    "\n",
    "# Compile the model\n",
    "model.compile(optimizer='adam', loss='mse', metrics=['mae'])"
   ]
  },
  {
   "cell_type": "markdown",
   "metadata": {},
   "source": [
    "-------------------\n",
    "------------------\n",
    "## **5.** **Entrenamiento del Modelo**\n",
    "-------------------\n",
    "------------------"
   ]
  },
  {
   "cell_type": "code",
   "execution_count": 28,
   "metadata": {},
   "outputs": [
    {
     "name": "stdout",
     "output_type": "stream",
     "text": [
      "Epoch 1/20\n",
      "\u001b[1m676/676\u001b[0m \u001b[32m━━━━━━━━━━━━━━━━━━━━\u001b[0m\u001b[37m\u001b[0m \u001b[1m13s\u001b[0m 9ms/step - loss: 2.7849 - mae: 0.8892 - val_loss: 0.6025 - val_mae: 0.4745\n",
      "Epoch 2/20\n",
      "\u001b[1m676/676\u001b[0m \u001b[32m━━━━━━━━━━━━━━━━━━━━\u001b[0m\u001b[37m\u001b[0m \u001b[1m6s\u001b[0m 9ms/step - loss: 0.6944 - mae: 0.5732 - val_loss: 0.4471 - val_mae: 0.4767\n",
      "Epoch 3/20\n",
      "\u001b[1m676/676\u001b[0m \u001b[32m━━━━━━━━━━━━━━━━━━━━\u001b[0m\u001b[37m\u001b[0m \u001b[1m7s\u001b[0m 10ms/step - loss: 0.5540 - mae: 0.5541 - val_loss: 0.4176 - val_mae: 0.4684\n",
      "Epoch 4/20\n",
      "\u001b[1m676/676\u001b[0m \u001b[32m━━━━━━━━━━━━━━━━━━━━\u001b[0m\u001b[37m\u001b[0m \u001b[1m8s\u001b[0m 12ms/step - loss: 0.5243 - mae: 0.5457 - val_loss: 0.4135 - val_mae: 0.4831\n",
      "Epoch 5/20\n",
      "\u001b[1m676/676\u001b[0m \u001b[32m━━━━━━━━━━━━━━━━━━━━\u001b[0m\u001b[37m\u001b[0m \u001b[1m8s\u001b[0m 11ms/step - loss: 0.5107 - mae: 0.5412 - val_loss: 0.4078 - val_mae: 0.4762\n",
      "Epoch 6/20\n",
      "\u001b[1m676/676\u001b[0m \u001b[32m━━━━━━━━━━━━━━━━━━━━\u001b[0m\u001b[37m\u001b[0m \u001b[1m8s\u001b[0m 12ms/step - loss: 0.4899 - mae: 0.5275 - val_loss: 0.4092 - val_mae: 0.4800\n",
      "Epoch 7/20\n",
      "\u001b[1m676/676\u001b[0m \u001b[32m━━━━━━━━━━━━━━━━━━━━\u001b[0m\u001b[37m\u001b[0m \u001b[1m11s\u001b[0m 16ms/step - loss: 0.4937 - mae: 0.5280 - val_loss: 0.4085 - val_mae: 0.4740\n",
      "Epoch 8/20\n",
      "\u001b[1m676/676\u001b[0m \u001b[32m━━━━━━━━━━━━━━━━━━━━\u001b[0m\u001b[37m\u001b[0m \u001b[1m9s\u001b[0m 13ms/step - loss: 0.4739 - mae: 0.5170 - val_loss: 0.4105 - val_mae: 0.4793\n",
      "Epoch 9/20\n",
      "\u001b[1m676/676\u001b[0m \u001b[32m━━━━━━━━━━━━━━━━━━━━\u001b[0m\u001b[37m\u001b[0m \u001b[1m8s\u001b[0m 12ms/step - loss: 0.4564 - mae: 0.5085 - val_loss: 0.4079 - val_mae: 0.4780\n",
      "Epoch 10/20\n",
      "\u001b[1m676/676\u001b[0m \u001b[32m━━━━━━━━━━━━━━━━━━━━\u001b[0m\u001b[37m\u001b[0m \u001b[1m9s\u001b[0m 14ms/step - loss: 0.4645 - mae: 0.5132 - val_loss: 0.4071 - val_mae: 0.4713\n",
      "Epoch 11/20\n",
      "\u001b[1m676/676\u001b[0m \u001b[32m━━━━━━━━━━━━━━━━━━━━\u001b[0m\u001b[37m\u001b[0m \u001b[1m9s\u001b[0m 12ms/step - loss: 0.4600 - mae: 0.5099 - val_loss: 0.4118 - val_mae: 0.4842\n",
      "Epoch 12/20\n",
      "\u001b[1m676/676\u001b[0m \u001b[32m━━━━━━━━━━━━━━━━━━━━\u001b[0m\u001b[37m\u001b[0m \u001b[1m7s\u001b[0m 10ms/step - loss: 0.4556 - mae: 0.5049 - val_loss: 0.4133 - val_mae: 0.4873\n",
      "Epoch 13/20\n",
      "\u001b[1m676/676\u001b[0m \u001b[32m━━━━━━━━━━━━━━━━━━━━\u001b[0m\u001b[37m\u001b[0m \u001b[1m7s\u001b[0m 11ms/step - loss: 0.4444 - mae: 0.5003 - val_loss: 0.4063 - val_mae: 0.4717\n",
      "Epoch 14/20\n",
      "\u001b[1m676/676\u001b[0m \u001b[32m━━━━━━━━━━━━━━━━━━━━\u001b[0m\u001b[37m\u001b[0m \u001b[1m9s\u001b[0m 13ms/step - loss: 0.4415 - mae: 0.4977 - val_loss: 0.4065 - val_mae: 0.4722\n",
      "Epoch 15/20\n",
      "\u001b[1m676/676\u001b[0m \u001b[32m━━━━━━━━━━━━━━━━━━━━\u001b[0m\u001b[37m\u001b[0m \u001b[1m9s\u001b[0m 12ms/step - loss: 0.4373 - mae: 0.4933 - val_loss: 0.4120 - val_mae: 0.4859\n",
      "Epoch 16/20\n",
      "\u001b[1m676/676\u001b[0m \u001b[32m━━━━━━━━━━━━━━━━━━━━\u001b[0m\u001b[37m\u001b[0m \u001b[1m8s\u001b[0m 12ms/step - loss: 0.4433 - mae: 0.4977 - val_loss: 0.4087 - val_mae: 0.4768\n",
      "Epoch 17/20\n",
      "\u001b[1m676/676\u001b[0m \u001b[32m━━━━━━━━━━━━━━━━━━━━\u001b[0m\u001b[37m\u001b[0m \u001b[1m8s\u001b[0m 12ms/step - loss: 0.4388 - mae: 0.4964 - val_loss: 0.4108 - val_mae: 0.4851\n",
      "Epoch 18/20\n",
      "\u001b[1m676/676\u001b[0m \u001b[32m━━━━━━━━━━━━━━━━━━━━\u001b[0m\u001b[37m\u001b[0m \u001b[1m8s\u001b[0m 12ms/step - loss: 0.4375 - mae: 0.4943 - val_loss: 0.4060 - val_mae: 0.4761\n",
      "Epoch 19/20\n",
      "\u001b[1m676/676\u001b[0m \u001b[32m━━━━━━━━━━━━━━━━━━━━\u001b[0m\u001b[37m\u001b[0m \u001b[1m8s\u001b[0m 12ms/step - loss: 0.4313 - mae: 0.4905 - val_loss: 0.4093 - val_mae: 0.4827\n",
      "Epoch 20/20\n",
      "\u001b[1m676/676\u001b[0m \u001b[32m━━━━━━━━━━━━━━━━━━━━\u001b[0m\u001b[37m\u001b[0m \u001b[1m10s\u001b[0m 11ms/step - loss: 0.4304 - mae: 0.4911 - val_loss: 0.4084 - val_mae: 0.4768\n"
     ]
    }
   ],
   "source": [
    "history = model.fit(X_train, y_train, epochs=20, validation_data=(X_test, y_test), batch_size=32)"
   ]
  },
  {
   "cell_type": "markdown",
   "metadata": {},
   "source": [
    "-------------------\n",
    "------------------\n",
    "## **6.** **Guardar el Modelo**\n",
    "-------------------\n",
    "------------------"
   ]
  },
  {
   "cell_type": "code",
   "execution_count": 29,
   "metadata": {},
   "outputs": [],
   "source": [
    "model.save('../Models/movie_recommender_model_2.keras')"
   ]
  },
  {
   "cell_type": "markdown",
   "metadata": {},
   "source": [
    "-------------------\n",
    "------------------\n",
    "## **7.** **Visualizar el Proceso de Entrenamiento**\n",
    "-------------------\n",
    "------------------"
   ]
  },
  {
   "cell_type": "code",
   "execution_count": 30,
   "metadata": {},
   "outputs": [
    {
     "data": {
      "image/png": "[encoded data removed]",
      "text/plain": [
       "<Figure size 1200x400 with 2 Axes>"
      ]
     },
     "metadata": {},
     "output_type": "display_data"
    }
   ],
   "source": [
    "# Plot training & validation loss values\n",
    "plt.figure(figsize=(12, 4))\n",
    "plt.subplot(1, 2, 1)\n",
    "plt.plot(history.history['loss'])\n",
    "plt.plot(history.history['val_loss'])\n",
    "plt.title('Model Loss')\n",
    "plt.xlabel('Epoch')\n",
    "plt.ylabel('Loss')\n",
    "plt.legend(['Train', 'Test'], loc='upper right')\n",
    "\n",
    "# Plot training & validation MAE values\n",
    "plt.subplot(1, 2, 2)\n",
    "plt.plot(history.history['mae'])\n",
    "plt.plot(history.history['val_mae'])\n",
    "plt.title('Model MAE')\n",
    "plt.xlabel('Epoch')\n",
    "plt.ylabel('MAE')\n",
    "plt.legend(['Train', 'Test'], loc='upper right')\n",
    "\n",
    "plt.show()"
   ]
  },
  {
   "cell_type": "markdown",
   "metadata": {},
   "source": [
    "-------------------\n",
    "------------------\n",
    "## **8.** **Evaluación del Modelo**\n",
    "-------------------\n",
    "------------------"
   ]
  },
  {
   "cell_type": "code",
   "execution_count": 31,
   "metadata": {},
   "outputs": [
    {
     "name": "stdout",
     "output_type": "stream",
     "text": [
      "\u001b[1m169/169\u001b[0m \u001b[32m━━━━━━━━━━━━━━━━━━━━\u001b[0m\u001b[37m\u001b[0m \u001b[1m1s\u001b[0m 8ms/step - loss: 0.3986 - mae: 0.4715\n",
      "Model Loss: 0.4083622395992279, Model MAE: 0.4767575263977051\n",
      "Model Loss: 0.4083622395992279 (12.98%)\n",
      "Model MAE: 0.4767575263977051 (15.15%)\n"
     ]
    }
   ],
   "source": [
    "# Evaluate the model\n",
    "loss, mae = model.evaluate(X_test, y_test)\n",
    "print(f'Model Loss: {loss}, Model MAE: {mae}')\n",
    "\n",
    "# Calculate the mean value of y_test\n",
    "y_test_mean = np.mean(y_test)\n",
    "\n",
    "# Convert the loss to a percentage of the mean value of y_test\n",
    "loss_percentage = (loss / y_test_mean) * 100\n",
    "\n",
    "# Convert the MAE to a percentage of the mean value of y_test\n",
    "mae_percentage = (mae / y_test_mean) * 100\n",
    "\n",
    "print(f'Model Loss: {loss} ({loss_percentage:.2f}%)')\n",
    "print(f'Model MAE: {mae} ({mae_percentage:.2f}%)')"
   ]
  },
  {
   "cell_type": "markdown",
   "metadata": {},
   "source": [
    "-------------------\n",
    "------------------\n",
    "## **9.** **Función de Recomendación Mejorada**\n",
    "-------------------\n",
    "------------------"
   ]
  },
  {
   "cell_type": "code",
   "execution_count": 32,
   "metadata": {},
   "outputs": [
    {
     "name": "stdout",
     "output_type": "stream",
     "text": [
      "Recomendaciones para las emociones 'Anger' y 'Fear':\n",
      "\u001b[1m1/1\u001b[0m \u001b[32m━━━━━━━━━━━━━━━━━━━━\u001b[0m\u001b[37m\u001b[0m \u001b[1m0s\u001b[0m 292ms/step\n",
      "                                   title  average_rating\n",
      "796                          Fled (1996)        2.873468\n",
      "4863  Affair of the Necklace, The (2001)        2.873418\n",
      "3874                    Bedazzled (2000)        2.873602\n",
      "8960                   Moonwalker (1988)        2.873239\n",
      "6702                  Rookie, The (1990)        2.873750\n",
      "2290               Money Pit, The (1986)        2.873938\n",
      "691                          Boys (1996)        2.873950\n",
      "4180                        Krull (1983)        2.872951\n",
      "7118               Silencers, The (1966)        2.872340\n",
      "1890              Friday the 13th (1980)        2.874771\n"
     ]
    }
   ],
   "source": [
    "def recommend_movies_nn(emotion1, emotion2, movies=movies, mlb=mlb, model=model, top_n=10):\n",
    "    emotions = [emotion1, emotion2]\n",
    "    binarized_emotions = mlb.transform([emotions])\n",
    "    predicted_rating = model.predict(binarized_emotions)[0][0]\n",
    "    \n",
    "    # Find movies with ratings close to the prediction\n",
    "    movies['rating_diff'] = abs(movies['average_rating'] - predicted_rating)\n",
    "    recommended_movies = movies.sort_values(by=['rating_diff', 'average_rating'], ascending=[True, False]).head(top_n)\n",
    "    \n",
    "    return recommended_movies[['title', 'average_rating']]\n",
    "\n",
    "# Example recommendation\n",
    "print(\"Recomendaciones para las emociones 'Anger' y 'Fear':\")\n",
    "print(recommend_movies_nn('Joy', 'Fear'))"
   ]
  }
 ],
 "metadata": {
  "kernelspec": {
   "display_name": ".VenvEmovie",
   "language": "python",
   "name": "python3"
  },
  "language_info": {
   "codemirror_mode": {
    "name": "ipython",
    "version": 3
   },
   "file_extension": ".py",
   "mimetype": "text/x-python",
   "name": "python",
   "nbconvert_exporter": "python",
   "pygments_lexer": "ipython3",
   "version": "3.9.7"
  }
 },
 "nbformat": 4,
 "nbformat_minor": 2
}
