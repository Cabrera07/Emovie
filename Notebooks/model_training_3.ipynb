{
 "cells": [
  {
   "cell_type": "markdown",
   "metadata": {},
   "source": [
    "----------------------------\n",
    "# **Creación del Modelo y Evalución**\n",
    "------------------------ "
   ]
  },
  {
   "cell_type": "markdown",
   "metadata": {},
   "source": [
    "-------------------\n",
    "------------------\n",
    "## **1.** **Importar Librerias**\n",
    "-------------------\n",
    "------------------"
   ]
  },
  {
   "cell_type": "code",
   "execution_count": 22,
   "metadata": {},
   "outputs": [],
   "source": [
    "# Importing libraries\n",
    "import pandas as pd\n",
    "import numpy as np\n",
    "import matplotlib.pyplot as plt\n",
    "from sklearn.preprocessing import MultiLabelBinarizer\n",
    "from sklearn.model_selection import train_test_split\n",
    "import tensorflow as tf\n",
    "from tensorflow.keras.models import Model\n",
    "from tensorflow.keras.layers import Input, Embedding, Flatten, Dense, Dropout"
   ]
  },
  {
   "cell_type": "markdown",
   "metadata": {},
   "source": [
    "-------------------\n",
    "------------------\n",
    "## **2.** **Cargar Datos Procesados**\n",
    "-------------------\n",
    "------------------"
   ]
  },
  {
   "cell_type": "code",
   "execution_count": 23,
   "metadata": {},
   "outputs": [],
   "source": [
    "# Load Processed Data\n",
    "movies_path = '../Data/Processed/processed_movies.csv'\n",
    "movies = pd.read_csv(movies_path)"
   ]
  },
  {
   "cell_type": "markdown",
   "metadata": {},
   "source": [
    "-------------------\n",
    "------------------\n",
    "## **3.** **Preprocesamiento de Emociones**\n",
    "-------------------\n",
    "------------------"
   ]
  },
  {
   "cell_type": "code",
   "execution_count": 24,
   "metadata": {},
   "outputs": [],
   "source": [
    "# Emotion Preprocessing\n",
    "movies['emotions_list'] = movies['emotions'].apply(lambda x: eval(x))\n",
    "\n",
    "# Binarize the emotions\n",
    "mlb = MultiLabelBinarizer()\n",
    "emotions_binarized = mlb.fit_transform(movies['emotions_list'])\n",
    "\n",
    "# Split the data into training and testing sets\n",
    "X_train, X_test, y_train, y_test = train_test_split(emotions_binarized, movies['average_rating'], test_size=0.2, random_state=42)"
   ]
  },
  {
   "cell_type": "markdown",
   "metadata": {},
   "source": [
    "-------------------\n",
    "------------------\n",
    "## **4.** **Definir el Modelo**\n",
    "-------------------\n",
    "------------------"
   ]
  },
  {
   "cell_type": "code",
   "execution_count": 25,
   "metadata": {},
   "outputs": [],
   "source": [
    "# Define the model\n",
    "input_layer = Input(shape=(emotions_binarized.shape[1],))\n",
    "embedding_layer = Dense(128, activation='relu')(input_layer)\n",
    "x = Flatten()(embedding_layer)\n",
    "x = Dense(128, activation='relu')(x)\n",
    "x = Dropout(0.3)(x)\n",
    "output_layer = Dense(1, activation='linear')(x)\n",
    "\n",
    "model = Model(inputs=input_layer, outputs=output_layer)\n",
    "\n",
    "# Compile the model\n",
    "model.compile(optimizer='adam', loss='mse', metrics=['mae'])"
   ]
  },
  {
   "cell_type": "markdown",
   "metadata": {},
   "source": [
    "-------------------\n",
    "------------------\n",
    "## **5.** **Entrenamiento del Modelo**\n",
    "-------------------\n",
    "------------------"
   ]
  },
  {
   "cell_type": "code",
   "execution_count": 26,
   "metadata": {},
   "outputs": [
    {
     "name": "stdout",
     "output_type": "stream",
     "text": [
      "Epoch 1/20\n",
      "\u001b[1m676/676\u001b[0m \u001b[32m━━━━━━━━━━━━━━━━━━━━\u001b[0m\u001b[37m\u001b[0m \u001b[1m10s\u001b[0m 7ms/step - loss: 1.3954 - mae: 0.8327 - val_loss: 0.3940 - val_mae: 0.4776\n",
      "Epoch 2/20\n",
      "\u001b[1m676/676\u001b[0m \u001b[32m━━━━━━━━━━━━━━━━━━━━\u001b[0m\u001b[37m\u001b[0m \u001b[1m5s\u001b[0m 7ms/step - loss: 0.4658 - mae: 0.5247 - val_loss: 0.3962 - val_mae: 0.4819\n",
      "Epoch 3/20\n",
      "\u001b[1m676/676\u001b[0m \u001b[32m━━━━━━━━━━━━━━━━━━━━\u001b[0m\u001b[37m\u001b[0m \u001b[1m5s\u001b[0m 7ms/step - loss: 0.4732 - mae: 0.5242 - val_loss: 0.4004 - val_mae: 0.4830\n",
      "Epoch 4/20\n",
      "\u001b[1m676/676\u001b[0m \u001b[32m━━━━━━━━━━━━━━━━━━━━\u001b[0m\u001b[37m\u001b[0m \u001b[1m5s\u001b[0m 7ms/step - loss: 0.4608 - mae: 0.5211 - val_loss: 0.3951 - val_mae: 0.4765\n",
      "Epoch 5/20\n",
      "\u001b[1m676/676\u001b[0m \u001b[32m━━━━━━━━━━━━━━━━━━━━\u001b[0m\u001b[37m\u001b[0m \u001b[1m5s\u001b[0m 7ms/step - loss: 0.4629 - mae: 0.5232 - val_loss: 0.3983 - val_mae: 0.4770\n",
      "Epoch 6/20\n",
      "\u001b[1m676/676\u001b[0m \u001b[32m━━━━━━━━━━━━━━━━━━━━\u001b[0m\u001b[37m\u001b[0m \u001b[1m5s\u001b[0m 7ms/step - loss: 0.4559 - mae: 0.5157 - val_loss: 0.3938 - val_mae: 0.4706\n",
      "Epoch 7/20\n",
      "\u001b[1m676/676\u001b[0m \u001b[32m━━━━━━━━━━━━━━━━━━━━\u001b[0m\u001b[37m\u001b[0m \u001b[1m5s\u001b[0m 7ms/step - loss: 0.4506 - mae: 0.5104 - val_loss: 0.4085 - val_mae: 0.4973\n",
      "Epoch 8/20\n",
      "\u001b[1m676/676\u001b[0m \u001b[32m━━━━━━━━━━━━━━━━━━━━\u001b[0m\u001b[37m\u001b[0m \u001b[1m5s\u001b[0m 8ms/step - loss: 0.4516 - mae: 0.5126 - val_loss: 0.4074 - val_mae: 0.4675\n",
      "Epoch 9/20\n",
      "\u001b[1m676/676\u001b[0m \u001b[32m━━━━━━━━━━━━━━━━━━━━\u001b[0m\u001b[37m\u001b[0m \u001b[1m5s\u001b[0m 7ms/step - loss: 0.4479 - mae: 0.5121 - val_loss: 0.4005 - val_mae: 0.4841\n",
      "Epoch 10/20\n",
      "\u001b[1m676/676\u001b[0m \u001b[32m━━━━━━━━━━━━━━━━━━━━\u001b[0m\u001b[37m\u001b[0m \u001b[1m5s\u001b[0m 8ms/step - loss: 0.4402 - mae: 0.5058 - val_loss: 0.3998 - val_mae: 0.4884\n",
      "Epoch 11/20\n",
      "\u001b[1m676/676\u001b[0m \u001b[32m━━━━━━━━━━━━━━━━━━━━\u001b[0m\u001b[37m\u001b[0m \u001b[1m5s\u001b[0m 7ms/step - loss: 0.4433 - mae: 0.5085 - val_loss: 0.3993 - val_mae: 0.4860\n",
      "Epoch 12/20\n",
      "\u001b[1m676/676\u001b[0m \u001b[32m━━━━━━━━━━━━━━━━━━━━\u001b[0m\u001b[37m\u001b[0m \u001b[1m5s\u001b[0m 7ms/step - loss: 0.4319 - mae: 0.5003 - val_loss: 0.3924 - val_mae: 0.4740\n",
      "Epoch 13/20\n",
      "\u001b[1m676/676\u001b[0m \u001b[32m━━━━━━━━━━━━━━━━━━━━\u001b[0m\u001b[37m\u001b[0m \u001b[1m5s\u001b[0m 7ms/step - loss: 0.4281 - mae: 0.4975 - val_loss: 0.3952 - val_mae: 0.4787\n",
      "Epoch 14/20\n",
      "\u001b[1m676/676\u001b[0m \u001b[32m━━━━━━━━━━━━━━━━━━━━\u001b[0m\u001b[37m\u001b[0m \u001b[1m5s\u001b[0m 7ms/step - loss: 0.4348 - mae: 0.4973 - val_loss: 0.3957 - val_mae: 0.4824\n",
      "Epoch 15/20\n",
      "\u001b[1m676/676\u001b[0m \u001b[32m━━━━━━━━━━━━━━━━━━━━\u001b[0m\u001b[37m\u001b[0m \u001b[1m5s\u001b[0m 7ms/step - loss: 0.4249 - mae: 0.4968 - val_loss: 0.3926 - val_mae: 0.4702\n",
      "Epoch 16/20\n",
      "\u001b[1m676/676\u001b[0m \u001b[32m━━━━━━━━━━━━━━━━━━━━\u001b[0m\u001b[37m\u001b[0m \u001b[1m5s\u001b[0m 8ms/step - loss: 0.4188 - mae: 0.4899 - val_loss: 0.3989 - val_mae: 0.4667\n",
      "Epoch 17/20\n",
      "\u001b[1m676/676\u001b[0m \u001b[32m━━━━━━━━━━━━━━━━━━━━\u001b[0m\u001b[37m\u001b[0m \u001b[1m5s\u001b[0m 8ms/step - loss: 0.4210 - mae: 0.4922 - val_loss: 0.3954 - val_mae: 0.4805\n",
      "Epoch 18/20\n",
      "\u001b[1m676/676\u001b[0m \u001b[32m━━━━━━━━━━━━━━━━━━━━\u001b[0m\u001b[37m\u001b[0m \u001b[1m5s\u001b[0m 7ms/step - loss: 0.4203 - mae: 0.4896 - val_loss: 0.3943 - val_mae: 0.4793\n",
      "Epoch 19/20\n",
      "\u001b[1m676/676\u001b[0m \u001b[32m━━━━━━━━━━━━━━━━━━━━\u001b[0m\u001b[37m\u001b[0m \u001b[1m5s\u001b[0m 7ms/step - loss: 0.4228 - mae: 0.4927 - val_loss: 0.3925 - val_mae: 0.4754\n",
      "Epoch 20/20\n",
      "\u001b[1m676/676\u001b[0m \u001b[32m━━━━━━━━━━━━━━━━━━━━\u001b[0m\u001b[37m\u001b[0m \u001b[1m5s\u001b[0m 7ms/step - loss: 0.4150 - mae: 0.4881 - val_loss: 0.3948 - val_mae: 0.4816\n"
     ]
    }
   ],
   "source": [
    "history = model.fit(X_train, y_train, epochs=20, validation_data=(X_test, y_test), batch_size=32)"
   ]
  },
  {
   "cell_type": "markdown",
   "metadata": {},
   "source": [
    "-------------------\n",
    "------------------\n",
    "## **6.** **Guardar el Modelo**\n",
    "-------------------\n",
    "------------------"
   ]
  },
  {
   "cell_type": "code",
   "execution_count": 27,
   "metadata": {},
   "outputs": [],
   "source": [
    "model.save('../Models/movie_recommender_model_3.keras')"
   ]
  },
  {
   "cell_type": "markdown",
   "metadata": {},
   "source": [
    "-------------------\n",
    "------------------\n",
    "## **7.** **Visualizar el Proceso de Entrenamiento**\n",
    "-------------------\n",
    "------------------"
   ]
  },
  {
   "cell_type": "code",
   "execution_count": 28,
   "metadata": {},
   "outputs": [
    {
     "data": {
      "image/png": "[encoded data removed]",
      "text/plain": [
       "<Figure size 1200x400 with 2 Axes>"
      ]
     },
     "metadata": {},
     "output_type": "display_data"
    }
   ],
   "source": [
    "# Visualize the Training Process\n",
    "plt.figure(figsize=(12, 4))\n",
    "plt.subplot(1, 2, 1)\n",
    "plt.plot(history.history['loss'])\n",
    "plt.plot(history.history['val_loss'])\n",
    "plt.title('Model Loss')\n",
    "plt.xlabel('Epoch')\n",
    "plt.ylabel('Loss')\n",
    "plt.legend(['Train', 'Test'], loc='upper right')\n",
    "\n",
    "plt.subplot(1, 2, 2)\n",
    "plt.plot(history.history['mae'])\n",
    "plt.plot(history.history['val_mae'])\n",
    "plt.title('Model MAE')\n",
    "plt.xlabel('Epoch')\n",
    "plt.ylabel('MAE')\n",
    "plt.legend(['Train', 'Test'], loc='upper right')\n",
    "\n",
    "plt.show()"
   ]
  },
  {
   "cell_type": "markdown",
   "metadata": {},
   "source": [
    "-------------------\n",
    "------------------\n",
    "## **8.** **Evaluación del Modelo**\n",
    "-------------------\n",
    "------------------"
   ]
  },
  {
   "cell_type": "code",
   "execution_count": 29,
   "metadata": {},
   "outputs": [
    {
     "name": "stdout",
     "output_type": "stream",
     "text": [
      "\u001b[1m169/169\u001b[0m \u001b[32m━━━━━━━━━━━━━━━━━━━━\u001b[0m\u001b[37m\u001b[0m \u001b[1m1s\u001b[0m 4ms/step - loss: 0.3848 - mae: 0.4765\n",
      "Model Loss: 0.39476653933525085, Model MAE: 0.4816376268863678\n",
      "Model Loss: 0.39476653933525085 (12.55%)\n",
      "Model MAE: 0.4816376268863678 (15.31%)\n"
     ]
    }
   ],
   "source": [
    "# Evaluate the model\n",
    "loss, mae = model.evaluate(X_test, y_test)\n",
    "print(f'Model Loss: {loss}, Model MAE: {mae}')\n",
    "\n",
    "# Calculate the mean value of y_test\n",
    "y_test_mean = np.mean(y_test)\n",
    "\n",
    "# Convert the loss to a percentage of the mean value of y_test\n",
    "loss_percentage = (loss / y_test_mean) * 100\n",
    "\n",
    "# Convert the MAE to a percentage of the mean value of y_test\n",
    "mae_percentage = (mae / y_test_mean) * 100\n",
    "\n",
    "print(f'Model Loss: {loss} ({loss_percentage:.2f}%)')\n",
    "print(f'Model MAE: {mae} ({mae_percentage:.2f}%)')"
   ]
  },
  {
   "cell_type": "markdown",
   "metadata": {},
   "source": [
    "-------------------\n",
    "------------------\n",
    "## **9.** **Función de Recomendación Mejorada**\n",
    "-------------------\n",
    "------------------"
   ]
  },
  {
   "cell_type": "code",
   "execution_count": 30,
   "metadata": {},
   "outputs": [
    {
     "name": "stdout",
     "output_type": "stream",
     "text": [
      "Recomendaciones para las emociones 'Joy' y 'Fear':\n",
      "\u001b[1m1/1\u001b[0m \u001b[32m━━━━━━━━━━━━━━━━━━━━\u001b[0m\u001b[37m\u001b[0m \u001b[1m0s\u001b[0m 309ms/step\n",
      "                             title  average_rating\n",
      "4115                Rated X (2000)        2.812030\n",
      "11056    You, Me and Dupree (2006)        2.811701\n",
      "4948                  Foxes (1980)        2.811688\n",
      "4646                  Punks (2000)        2.812500\n",
      "5224   Triumph of Love, The (2001)        2.812500\n",
      "6516     Cemetery Club, The (1993)        2.812500\n",
      "6565                    Far (2001)        2.812500\n",
      "9245    Charisma (Karisuma) (1999)        2.812500\n",
      "9438          Helen of Troy (2003)        2.812500\n",
      "10893  Illustrated Man, The (1969)        2.812500\n"
     ]
    }
   ],
   "source": [
    "def recommend_movies_embedding(emotion1, emotion2, movies=movies, mlb=mlb, model=model, top_n=10):\n",
    "    emotions = [emotion1, emotion2]\n",
    "    binarized_emotions = mlb.transform([emotions])\n",
    "    predicted_rating = model.predict(binarized_emotions)[0][0]\n",
    "    \n",
    "    # Find movies with ratings close to the prediction\n",
    "    movies['rating_diff'] = abs(movies['average_rating'] - predicted_rating)\n",
    "    recommended_movies = movies.sort_values(by=['rating_diff', 'average_rating'], ascending=[True, False]).head(top_n)\n",
    "    \n",
    "    return recommended_movies[['title', 'average_rating']]\n",
    "\n",
    "# Example recommendation\n",
    "print(\"Recomendaciones para las emociones 'Joy' y 'Fear':\")\n",
    "print(recommend_movies_embedding('Joy', 'Fear'))"
   ]
  }
 ],
 "metadata": {
  "kernelspec": {
   "display_name": ".VenvEmovie",
   "language": "python",
   "name": "python3"
  },
  "language_info": {
   "codemirror_mode": {
    "name": "ipython",
    "version": 3
   },
   "file_extension": ".py",
   "mimetype": "text/x-python",
   "name": "python",
   "nbconvert_exporter": "python",
   "pygments_lexer": "ipython3",
   "version": "3.9.7"
  }
 },
 "nbformat": 4,
 "nbformat_minor": 2
}
