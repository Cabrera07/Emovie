{
 "cells": [
  {
   "cell_type": "markdown",
   "metadata": {},
   "source": [
    "----------------------------\n",
    "# **Creación del Modelo y Evalución**\n",
    "------------------------ "
   ]
  },
  {
   "cell_type": "markdown",
   "metadata": {},
   "source": [
    "-------------------\n",
    "------------------\n",
    "## **1.** **Importar Librerias**\n",
    "-------------------\n",
    "------------------"
   ]
  },
  {
   "cell_type": "code",
   "execution_count": 34,
   "metadata": {},
   "outputs": [],
   "source": [
    "# Importing libraries\n",
    "import pandas as pd\n",
    "import numpy as np\n",
    "import matplotlib.pyplot as plt\n",
    "from sklearn.metrics.pairwise import cosine_similarity\n",
    "from sklearn.feature_extraction.text import TfidfVectorizer\n",
    "from sklearn.decomposition import TruncatedSVD\n",
    "from sklearn.preprocessing import MultiLabelBinarizer, StandardScaler\n",
    "from sklearn.model_selection import train_test_split\n",
    "from sklearn.model_selection import cross_val_score\n",
    "import tensorflow as tf\n",
    "from tensorflow.keras.models import Sequential, load_model\n",
    "from tensorflow.keras.layers import Input, Dense, Dropout\n",
    "from tensorflow.keras.models import Model\n",
    "from tensorflow.keras.regularizers import l2"
   ]
  },
  {
   "cell_type": "markdown",
   "metadata": {},
   "source": [
    "-------------------\n",
    "------------------\n",
    "## **2.** **Cargar Datos Procesados**\n",
    "-------------------\n",
    "------------------"
   ]
  },
  {
   "cell_type": "code",
   "execution_count": 35,
   "metadata": {},
   "outputs": [],
   "source": [
    "# Load Processed Data\n",
    "movies_path = '../Data/Processed/processed_movies.csv'\n",
    "movies = pd.read_csv(movies_path)"
   ]
  },
  {
   "cell_type": "markdown",
   "metadata": {},
   "source": [
    "-------------------\n",
    "------------------\n",
    "## **3.** **Preprocesamiento de Emociones**\n",
    "-------------------\n",
    "------------------"
   ]
  },
  {
   "cell_type": "code",
   "execution_count": 36,
   "metadata": {},
   "outputs": [],
   "source": [
    "movies['emotions_str'] = movies['emotions'].apply(lambda x: ' '.join(eval(x)))\n",
    "\n",
    "# Vectorize the emotions with TF-IDF\n",
    "tfidf_vectorizer = TfidfVectorizer(ngram_range=(1, 2), max_features=5000)\n",
    "tfidf_matrix = tfidf_vectorizer.fit_transform(movies['emotions_str'])\n",
    "\n",
    "# Adjust n_components to a value less than or equal to n_features\n",
    "n_features = tfidf_matrix.shape[1]\n",
    "n_components = min(20, n_features)\n",
    "\n",
    "# Apply dimensionality reduction with TruncatedSVD\n",
    "svd = TruncatedSVD(n_components=n_components)\n",
    "tfidf_matrix_reduced = svd.fit_transform(tfidf_matrix)\n",
    "\n",
    "# Compute cosine similarity between movies\n",
    "cosine_sim = cosine_similarity(tfidf_matrix_reduced, tfidf_matrix_reduced)\n",
    "\n",
    "# Create a DataFrame to store the movies and their binarized emotions\n",
    "mlb = MultiLabelBinarizer()\n",
    "movies['emotions_list'] = movies['emotions'].apply(lambda x: eval(x))\n",
    "emotions_binarized = mlb.fit_transform(movies['emotions_list'])"
   ]
  },
  {
   "cell_type": "markdown",
   "metadata": {},
   "source": [
    "-------------------\n",
    "------------------\n",
    "## **4.** **Dividir los datos en entrenamiento y prueba**\n",
    "-------------------\n",
    "------------------"
   ]
  },
  {
   "cell_type": "code",
   "execution_count": 37,
   "metadata": {},
   "outputs": [],
   "source": [
    "X_train, X_test, y_train, y_test = train_test_split(emotions_binarized, movies['average_rating'], test_size=0.2, random_state=42)"
   ]
  },
  {
   "cell_type": "markdown",
   "metadata": {},
   "source": [
    "-------------------\n",
    "------------------\n",
    "## **5.** **Definir el Modelo**\n",
    "-------------------\n",
    "------------------"
   ]
  },
  {
   "cell_type": "code",
   "execution_count": 38,
   "metadata": {},
   "outputs": [],
   "source": [
    "# Define the model\n",
    "input_layer = Input(shape=(emotions_binarized.shape[1],))\n",
    "x = Dense(256, activation='relu', kernel_regularizer=l2(0.01))(input_layer)\n",
    "x = Dropout(0.3)(x)\n",
    "x = Dense(128, activation='relu', kernel_regularizer=l2(0.01))(x)\n",
    "x = Dropout(0.3)(x)\n",
    "x = Dense(64, activation='relu', kernel_regularizer=l2(0.01))(x)\n",
    "x = Dropout(0.3)(x)\n",
    "output_layer = Dense(1, activation='linear')(x)\n",
    "\n",
    "model = Model(inputs=input_layer, outputs=output_layer)\n",
    "\n",
    "# Compile the model\n",
    "model.compile(optimizer='adam', loss='mse', metrics=['mae'])"
   ]
  },
  {
   "cell_type": "markdown",
   "metadata": {},
   "source": [
    "-------------------\n",
    "------------------\n",
    "## **6.** **Entrenamiento del Modelo**\n",
    "-------------------\n",
    "------------------"
   ]
  },
  {
   "cell_type": "code",
   "execution_count": 39,
   "metadata": {},
   "outputs": [
    {
     "name": "stdout",
     "output_type": "stream",
     "text": [
      "Epoch 1/20\n",
      "\u001b[1m676/676\u001b[0m \u001b[32m━━━━━━━━━━━━━━━━━━━━\u001b[0m\u001b[37m\u001b[0m \u001b[1m20s\u001b[0m 15ms/step - loss: 2.7043 - mae: 0.8760 - val_loss: 0.6005 - val_mae: 0.4962\n",
      "Epoch 2/20\n",
      "\u001b[1m676/676\u001b[0m \u001b[32m━━━━━━━━━━━━━━━━━━━━\u001b[0m\u001b[37m\u001b[0m \u001b[1m8s\u001b[0m 11ms/step - loss: 0.6815 - mae: 0.5749 - val_loss: 0.4417 - val_mae: 0.4804\n",
      "Epoch 3/20\n",
      "\u001b[1m676/676\u001b[0m \u001b[32m━━━━━━━━━━━━━━━━━━━━\u001b[0m\u001b[37m\u001b[0m \u001b[1m7s\u001b[0m 10ms/step - loss: 0.5498 - mae: 0.5521 - val_loss: 0.4174 - val_mae: 0.4849\n",
      "Epoch 4/20\n",
      "\u001b[1m676/676\u001b[0m \u001b[32m━━━━━━━━━━━━━━━━━━━━\u001b[0m\u001b[37m\u001b[0m \u001b[1m7s\u001b[0m 11ms/step - loss: 0.5170 - mae: 0.5421 - val_loss: 0.4177 - val_mae: 0.4903\n",
      "Epoch 5/20\n",
      "\u001b[1m676/676\u001b[0m \u001b[32m━━━━━━━━━━━━━━━━━━━━\u001b[0m\u001b[37m\u001b[0m \u001b[1m11s\u001b[0m 11ms/step - loss: 0.4900 - mae: 0.5313 - val_loss: 0.4075 - val_mae: 0.4765\n",
      "Epoch 6/20\n",
      "\u001b[1m676/676\u001b[0m \u001b[32m━━━━━━━━━━━━━━━━━━━━\u001b[0m\u001b[37m\u001b[0m \u001b[1m7s\u001b[0m 10ms/step - loss: 0.4904 - mae: 0.5307 - val_loss: 0.4069 - val_mae: 0.4707\n",
      "Epoch 7/20\n",
      "\u001b[1m676/676\u001b[0m \u001b[32m━━━━━━━━━━━━━━━━━━━━\u001b[0m\u001b[37m\u001b[0m \u001b[1m7s\u001b[0m 10ms/step - loss: 0.4790 - mae: 0.5234 - val_loss: 0.4090 - val_mae: 0.4688\n",
      "Epoch 8/20\n",
      "\u001b[1m676/676\u001b[0m \u001b[32m━━━━━━━━━━━━━━━━━━━━\u001b[0m\u001b[37m\u001b[0m \u001b[1m8s\u001b[0m 11ms/step - loss: 0.4784 - mae: 0.5209 - val_loss: 0.4163 - val_mae: 0.4904\n",
      "Epoch 9/20\n",
      "\u001b[1m676/676\u001b[0m \u001b[32m━━━━━━━━━━━━━━━━━━━━\u001b[0m\u001b[37m\u001b[0m \u001b[1m8s\u001b[0m 11ms/step - loss: 0.4659 - mae: 0.5149 - val_loss: 0.4114 - val_mae: 0.4859\n",
      "Epoch 10/20\n",
      "\u001b[1m676/676\u001b[0m \u001b[32m━━━━━━━━━━━━━━━━━━━━\u001b[0m\u001b[37m\u001b[0m \u001b[1m8s\u001b[0m 12ms/step - loss: 0.4660 - mae: 0.5118 - val_loss: 0.4101 - val_mae: 0.4684\n",
      "Epoch 11/20\n",
      "\u001b[1m676/676\u001b[0m \u001b[32m━━━━━━━━━━━━━━━━━━━━\u001b[0m\u001b[37m\u001b[0m \u001b[1m8s\u001b[0m 11ms/step - loss: 0.4466 - mae: 0.5035 - val_loss: 0.4137 - val_mae: 0.4675\n",
      "Epoch 12/20\n",
      "\u001b[1m676/676\u001b[0m \u001b[32m━━━━━━━━━━━━━━━━━━━━\u001b[0m\u001b[37m\u001b[0m \u001b[1m8s\u001b[0m 11ms/step - loss: 0.4539 - mae: 0.5051 - val_loss: 0.4075 - val_mae: 0.4798\n",
      "Epoch 13/20\n",
      "\u001b[1m676/676\u001b[0m \u001b[32m━━━━━━━━━━━━━━━━━━━━\u001b[0m\u001b[37m\u001b[0m \u001b[1m7s\u001b[0m 11ms/step - loss: 0.4376 - mae: 0.4947 - val_loss: 0.4094 - val_mae: 0.4830\n",
      "Epoch 14/20\n",
      "\u001b[1m676/676\u001b[0m \u001b[32m━━━━━━━━━━━━━━━━━━━━\u001b[0m\u001b[37m\u001b[0m \u001b[1m8s\u001b[0m 12ms/step - loss: 0.4576 - mae: 0.5051 - val_loss: 0.4059 - val_mae: 0.4755\n",
      "Epoch 15/20\n",
      "\u001b[1m676/676\u001b[0m \u001b[32m━━━━━━━━━━━━━━━━━━━━\u001b[0m\u001b[37m\u001b[0m \u001b[1m8s\u001b[0m 11ms/step - loss: 0.4473 - mae: 0.4988 - val_loss: 0.4058 - val_mae: 0.4742\n",
      "Epoch 16/20\n",
      "\u001b[1m676/676\u001b[0m \u001b[32m━━━━━━━━━━━━━━━━━━━━\u001b[0m\u001b[37m\u001b[0m \u001b[1m7s\u001b[0m 11ms/step - loss: 0.4440 - mae: 0.5001 - val_loss: 0.4056 - val_mae: 0.4748\n",
      "Epoch 17/20\n",
      "\u001b[1m676/676\u001b[0m \u001b[32m━━━━━━━━━━━━━━━━━━━━\u001b[0m\u001b[37m\u001b[0m \u001b[1m7s\u001b[0m 10ms/step - loss: 0.4285 - mae: 0.4904 - val_loss: 0.4093 - val_mae: 0.4812\n",
      "Epoch 18/20\n",
      "\u001b[1m676/676\u001b[0m \u001b[32m━━━━━━━━━━━━━━━━━━━━\u001b[0m\u001b[37m\u001b[0m \u001b[1m7s\u001b[0m 10ms/step - loss: 0.4241 - mae: 0.4851 - val_loss: 0.4100 - val_mae: 0.4709\n",
      "Epoch 19/20\n",
      "\u001b[1m676/676\u001b[0m \u001b[32m━━━━━━━━━━━━━━━━━━━━\u001b[0m\u001b[37m\u001b[0m \u001b[1m8s\u001b[0m 12ms/step - loss: 0.4294 - mae: 0.4900 - val_loss: 0.4052 - val_mae: 0.4745\n",
      "Epoch 20/20\n",
      "\u001b[1m676/676\u001b[0m \u001b[32m━━━━━━━━━━━━━━━━━━━━\u001b[0m\u001b[37m\u001b[0m \u001b[1m8s\u001b[0m 12ms/step - loss: 0.4284 - mae: 0.4867 - val_loss: 0.4059 - val_mae: 0.4751\n"
     ]
    }
   ],
   "source": [
    "history = model.fit(X_train, y_train, epochs=20, validation_data=(X_test, y_test), batch_size=32)"
   ]
  },
  {
   "cell_type": "markdown",
   "metadata": {},
   "source": [
    "-------------------\n",
    "------------------\n",
    "## **7.** **Guardar el Modelo**\n",
    "-------------------\n",
    "------------------"
   ]
  },
  {
   "cell_type": "code",
   "execution_count": 40,
   "metadata": {},
   "outputs": [],
   "source": [
    "model.save('../Models/movie_recommender_model.keras')"
   ]
  },
  {
   "cell_type": "markdown",
   "metadata": {},
   "source": [
    "-------------------\n",
    "------------------\n",
    "## **8.** **Visualizar el Proceso de Entrenamiento**\n",
    "-------------------\n",
    "------------------"
   ]
  },
  {
   "cell_type": "code",
   "execution_count": 41,
   "metadata": {},
   "outputs": [
    {
     "data": {
      "image/png": "[encoded data removed]",
      "text/plain": [
       "<Figure size 1200x400 with 2 Axes>"
      ]
     },
     "metadata": {},
     "output_type": "display_data"
    }
   ],
   "source": [
    "# Plot training & validation loss values\n",
    "plt.figure(figsize=(12, 4))\n",
    "plt.subplot(1, 2, 1)\n",
    "plt.plot(history.history['loss'])\n",
    "plt.plot(history.history['val_loss'])\n",
    "plt.title('Model Loss')\n",
    "plt.xlabel('Epoch')\n",
    "plt.ylabel('Loss')\n",
    "plt.legend(['Train', 'Test'], loc='upper right')\n",
    "\n",
    "# Plot training & validation MAE values\n",
    "plt.subplot(1, 2, 2)\n",
    "plt.plot(history.history['mae'])\n",
    "plt.plot(history.history['val_mae'])\n",
    "plt.title('Model MAE')\n",
    "plt.xlabel('Epoch')\n",
    "plt.ylabel('MAE')\n",
    "plt.legend(['Train', 'Test'], loc='upper right')\n",
    "\n",
    "plt.show()\n"
   ]
  },
  {
   "cell_type": "markdown",
   "metadata": {},
   "source": [
    "-------------------\n",
    "------------------\n",
    "## **9.** **Evaluación del Modelo**\n",
    "-------------------\n",
    "------------------"
   ]
  },
  {
   "cell_type": "code",
   "execution_count": 42,
   "metadata": {},
   "outputs": [
    {
     "name": "stdout",
     "output_type": "stream",
     "text": [
      "\u001b[1m169/169\u001b[0m \u001b[32m━━━━━━━━━━━━━━━━━━━━\u001b[0m\u001b[37m\u001b[0m \u001b[1m1s\u001b[0m 6ms/step - loss: 0.3952 - mae: 0.4697\n",
      "Model Loss: 0.4058927893638611, Model MAE: 0.4750940799713135\n",
      "Model Loss: 0.4058927893638611 (12.90%)\n",
      "Model MAE: 0.4750940799713135 (15.10%)\n"
     ]
    }
   ],
   "source": [
    "# Evaluate the model\n",
    "loss, mae = model.evaluate(X_test, y_test)\n",
    "print(f'Model Loss: {loss}, Model MAE: {mae}')\n",
    "\n",
    "# Calculate the mean value of y_test\n",
    "y_test_mean = np.mean(y_test)\n",
    "\n",
    "# Convert the loss to a percentage of the mean value of y_test\n",
    "loss_percentage = (loss / y_test_mean) * 100\n",
    "\n",
    "# Convert the MAE to a percentage of the mean value of y_test\n",
    "mae_percentage = (mae / y_test_mean) * 100\n",
    "\n",
    "print(f'Model Loss: {loss} ({loss_percentage:.2f}%)')\n",
    "print(f'Model MAE: {mae} ({mae_percentage:.2f}%)')"
   ]
  },
  {
   "cell_type": "markdown",
   "metadata": {},
   "source": [
    "-------------------\n",
    "------------------\n",
    "## **10.** **Función de Recomendación**\n",
    "-------------------\n",
    "------------------"
   ]
  },
  {
   "cell_type": "code",
   "execution_count": 43,
   "metadata": {},
   "outputs": [
    {
     "name": "stdout",
     "output_type": "stream",
     "text": [
      "Recomendaciones para las emociones 'Joy' y 'Fear':\n",
      "\u001b[1m1/1\u001b[0m \u001b[32m━━━━━━━━━━━━━━━━━━━━\u001b[0m\u001b[37m\u001b[0m \u001b[1m0s\u001b[0m 480ms/step\n",
      "                                                   title  average_rating\n",
      "3666                                       Asylum (1972)        2.921687\n",
      "19165                                Rock of Ages (2012)        2.921687\n",
      "14491  Teenage Mutant Ninja Turtles: Turtles Forever ...        2.921429\n",
      "13077                                 Fifty Pills (2006)        2.921875\n",
      "14514                 Torrente 2: Misión Marbella (2001)        2.921875\n",
      "2036                               Needful Things (1993)        2.921069\n",
      "3520                               Saludos Amigos (1943)        2.921053\n",
      "5362   Men in Black II (a.k.a. MIIB) (a.k.a. MIB 2) (...        2.922229\n",
      "6231                                People I Know (2002)        2.920833\n",
      "4558                Return of the Musketeers, The (1989)        2.922330\n"
     ]
    }
   ],
   "source": [
    "def recommend_movies_nn(emotion1, emotion2, movies=movies, mlb=mlb, model=model, top_n=10):\n",
    "    emotions = [emotion1, emotion2]\n",
    "    binarized_emotions = mlb.transform([emotions])\n",
    "    predicted_rating = model.predict(binarized_emotions)[0][0]\n",
    "    \n",
    "    # Find movies with ratings close to the prediction\n",
    "    movies['rating_diff'] = abs(movies['average_rating'] - predicted_rating)\n",
    "    recommended_movies = movies.sort_values(by=['rating_diff', 'average_rating'], ascending=[True, False]).head(top_n)\n",
    "    \n",
    "    return recommended_movies[['title', 'average_rating']]\n",
    "\n",
    "# Example recommendation\n",
    "print(\"Recomendaciones para las emociones 'Joy' y 'Fear':\")\n",
    "print(recommend_movies_nn('Joy', 'Fear'))"
   ]
  }
 ],
 "metadata": {
  "kernelspec": {
   "display_name": ".VenvEmovie",
   "language": "python",
   "name": "python3"
  },
  "language_info": {
   "codemirror_mode": {
    "name": "ipython",
    "version": 3
   },
   "file_extension": ".py",
   "mimetype": "text/x-python",
   "name": "python",
   "nbconvert_exporter": "python",
   "pygments_lexer": "ipython3",
   "version": "3.9.7"
  }
 },
 "nbformat": 4,
 "nbformat_minor": 2
}
