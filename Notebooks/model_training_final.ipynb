{
 "cells": [
  {
   "cell_type": "markdown",
   "metadata": {},
   "source": [
    "----------------------------\n",
    "# **Creación del Modelo y Evalución**\n",
    "------------------------ "
   ]
  },
  {
   "cell_type": "markdown",
   "metadata": {},
   "source": [
    "-------------------\n",
    "------------------\n",
    "## **1.** **Importar Librerias**\n",
    "-------------------\n",
    "------------------"
   ]
  },
  {
   "cell_type": "code",
   "execution_count": 1,
   "metadata": {},
   "outputs": [],
   "source": [
    "# Importing libraries\n",
    "import pandas as pd\n",
    "import numpy as np\n",
    "import matplotlib.pyplot as plt\n",
    "from sklearn.preprocessing import MultiLabelBinarizer\n",
    "from sklearn.model_selection import train_test_split\n",
    "import tensorflow as tf\n",
    "from tensorflow.keras.models import Model\n",
    "from tensorflow.keras.layers import Input, Dense, Dropout, Flatten, BatchNormalization\n",
    "from tensorflow.keras.regularizers import l2"
   ]
  },
  {
   "cell_type": "markdown",
   "metadata": {},
   "source": [
    "-------------------\n",
    "------------------\n",
    "## **2.** **Cargar Datos Procesados**\n",
    "-------------------\n",
    "------------------"
   ]
  },
  {
   "cell_type": "code",
   "execution_count": 2,
   "metadata": {},
   "outputs": [],
   "source": [
    "# Load Processed Data\n",
    "movies_path = '../Data/Processed/processed_movies.csv'\n",
    "movies = pd.read_csv(movies_path)"
   ]
  },
  {
   "cell_type": "markdown",
   "metadata": {},
   "source": [
    "-------------------\n",
    "------------------\n",
    "## **3.** **Preprocesamiento de Emociones**\n",
    "-------------------\n",
    "------------------"
   ]
  },
  {
   "cell_type": "code",
   "execution_count": 3,
   "metadata": {},
   "outputs": [],
   "source": [
    "# Emotion Preprocessing\n",
    "movies['emotions_list'] = movies['emotions'].apply(lambda x: eval(x))\n",
    "\n",
    "# Binarize the emotions\n",
    "mlb = MultiLabelBinarizer()\n",
    "emotions_binarized = mlb.fit_transform(movies['emotions_list'])\n",
    "\n",
    "# Split the data into training and testing sets\n",
    "X_train, X_test, y_train, y_test = train_test_split(emotions_binarized, movies['average_rating'], test_size=0.2, random_state=42)\n"
   ]
  },
  {
   "cell_type": "markdown",
   "metadata": {},
   "source": [
    "-------------------\n",
    "------------------\n",
    "## **4.** **Definir el Modelo**\n",
    "-------------------\n",
    "------------------"
   ]
  },
  {
   "cell_type": "code",
   "execution_count": 4,
   "metadata": {},
   "outputs": [],
   "source": [
    "# Define the model\n",
    "input_layer = Input(shape=(emotions_binarized.shape[1],))\n",
    "x = Dense(128, activation='relu', kernel_regularizer=l2(0.01))(input_layer)\n",
    "x = BatchNormalization()(x)\n",
    "x = Flatten()(x)\n",
    "x = Dense(128, activation='relu', kernel_regularizer=l2(0.01))(x)\n",
    "x = Dropout(0.3)(x)\n",
    "output_layer = Dense(1, activation='linear')(x)\n",
    "\n",
    "model = Model(inputs=input_layer, outputs=output_layer)\n",
    "\n",
    "# Compile the model\n",
    "model.compile(optimizer='adam', loss='mse', metrics=['mae'])"
   ]
  },
  {
   "cell_type": "markdown",
   "metadata": {},
   "source": [
    "-------------------\n",
    "------------------\n",
    "## **5.** **Entrenamiento del Modelo**\n",
    "-------------------\n",
    "------------------"
   ]
  },
  {
   "cell_type": "code",
   "execution_count": 5,
   "metadata": {},
   "outputs": [
    {
     "name": "stdout",
     "output_type": "stream",
     "text": [
      "Epoch 1/20\n",
      "\u001b[1m676/676\u001b[0m \u001b[32m━━━━━━━━━━━━━━━━━━━━\u001b[0m\u001b[37m\u001b[0m \u001b[1m11s\u001b[0m 8ms/step - loss: 2.2231 - mae: 0.8148 - val_loss: 0.9194 - val_mae: 0.5281\n",
      "Epoch 2/20\n",
      "\u001b[1m676/676\u001b[0m \u001b[32m━━━━━━━━━━━━━━━━━━━━\u001b[0m\u001b[37m\u001b[0m \u001b[1m5s\u001b[0m 7ms/step - loss: 0.9620 - mae: 0.5897 - val_loss: 0.6190 - val_mae: 0.4867\n",
      "Epoch 3/20\n",
      "\u001b[1m676/676\u001b[0m \u001b[32m━━━━━━━━━━━━━━━━━━━━\u001b[0m\u001b[37m\u001b[0m \u001b[1m5s\u001b[0m 7ms/step - loss: 0.6830 - mae: 0.5594 - val_loss: 0.4988 - val_mae: 0.4833\n",
      "Epoch 4/20\n",
      "\u001b[1m676/676\u001b[0m \u001b[32m━━━━━━━━━━━━━━━━━━━━\u001b[0m\u001b[37m\u001b[0m \u001b[1m5s\u001b[0m 7ms/step - loss: 0.5572 - mae: 0.5337 - val_loss: 0.4493 - val_mae: 0.4771\n",
      "Epoch 5/20\n",
      "\u001b[1m676/676\u001b[0m \u001b[32m━━━━━━━━━━━━━━━━━━━━\u001b[0m\u001b[37m\u001b[0m \u001b[1m5s\u001b[0m 7ms/step - loss: 0.4960 - mae: 0.5170 - val_loss: 0.4390 - val_mae: 0.4775\n",
      "Epoch 6/20\n",
      "\u001b[1m676/676\u001b[0m \u001b[32m━━━━━━━━━━━━━━━━━━━━\u001b[0m\u001b[37m\u001b[0m \u001b[1m5s\u001b[0m 7ms/step - loss: 0.4677 - mae: 0.5103 - val_loss: 0.4086 - val_mae: 0.4848\n",
      "Epoch 7/20\n",
      "\u001b[1m676/676\u001b[0m \u001b[32m━━━━━━━━━━━━━━━━━━━━\u001b[0m\u001b[37m\u001b[0m \u001b[1m4s\u001b[0m 6ms/step - loss: 0.4420 - mae: 0.4985 - val_loss: 0.3989 - val_mae: 0.4744\n",
      "Epoch 8/20\n",
      "\u001b[1m676/676\u001b[0m \u001b[32m━━━━━━━━━━━━━━━━━━━━\u001b[0m\u001b[37m\u001b[0m \u001b[1m6s\u001b[0m 8ms/step - loss: 0.4284 - mae: 0.4961 - val_loss: 0.3944 - val_mae: 0.4746\n",
      "Epoch 9/20\n",
      "\u001b[1m676/676\u001b[0m \u001b[32m━━━━━━━━━━━━━━━━━━━━\u001b[0m\u001b[37m\u001b[0m \u001b[1m6s\u001b[0m 8ms/step - loss: 0.4351 - mae: 0.4964 - val_loss: 0.4017 - val_mae: 0.4876\n",
      "Epoch 10/20\n",
      "\u001b[1m676/676\u001b[0m \u001b[32m━━━━━━━━━━━━━━━━━━━━\u001b[0m\u001b[37m\u001b[0m \u001b[1m5s\u001b[0m 8ms/step - loss: 0.4338 - mae: 0.4974 - val_loss: 0.3988 - val_mae: 0.4844\n",
      "Epoch 11/20\n",
      "\u001b[1m676/676\u001b[0m \u001b[32m━━━━━━━━━━━━━━━━━━━━\u001b[0m\u001b[37m\u001b[0m \u001b[1m5s\u001b[0m 8ms/step - loss: 0.4196 - mae: 0.4907 - val_loss: 0.3965 - val_mae: 0.4754\n",
      "Epoch 12/20\n",
      "\u001b[1m676/676\u001b[0m \u001b[32m━━━━━━━━━━━━━━━━━━━━\u001b[0m\u001b[37m\u001b[0m \u001b[1m6s\u001b[0m 9ms/step - loss: 0.4231 - mae: 0.4942 - val_loss: 0.3940 - val_mae: 0.4758\n",
      "Epoch 13/20\n",
      "\u001b[1m676/676\u001b[0m \u001b[32m━━━━━━━━━━━━━━━━━━━━\u001b[0m\u001b[37m\u001b[0m \u001b[1m5s\u001b[0m 8ms/step - loss: 0.4162 - mae: 0.4899 - val_loss: 0.3971 - val_mae: 0.4717\n",
      "Epoch 14/20\n",
      "\u001b[1m676/676\u001b[0m \u001b[32m━━━━━━━━━━━━━━━━━━━━\u001b[0m\u001b[37m\u001b[0m \u001b[1m5s\u001b[0m 8ms/step - loss: 0.4269 - mae: 0.4898 - val_loss: 0.3940 - val_mae: 0.4708\n",
      "Epoch 15/20\n",
      "\u001b[1m676/676\u001b[0m \u001b[32m━━━━━━━━━━━━━━━━━━━━\u001b[0m\u001b[37m\u001b[0m \u001b[1m5s\u001b[0m 7ms/step - loss: 0.4316 - mae: 0.4973 - val_loss: 0.3944 - val_mae: 0.4768\n",
      "Epoch 16/20\n",
      "\u001b[1m676/676\u001b[0m \u001b[32m━━━━━━━━━━━━━━━━━━━━\u001b[0m\u001b[37m\u001b[0m \u001b[1m5s\u001b[0m 8ms/step - loss: 0.4227 - mae: 0.4895 - val_loss: 0.3946 - val_mae: 0.4746\n",
      "Epoch 17/20\n",
      "\u001b[1m676/676\u001b[0m \u001b[32m━━━━━━━━━━━━━━━━━━━━\u001b[0m\u001b[37m\u001b[0m \u001b[1m6s\u001b[0m 8ms/step - loss: 0.4213 - mae: 0.4873 - val_loss: 0.4032 - val_mae: 0.4864\n",
      "Epoch 18/20\n",
      "\u001b[1m676/676\u001b[0m \u001b[32m━━━━━━━━━━━━━━━━━━━━\u001b[0m\u001b[37m\u001b[0m \u001b[1m5s\u001b[0m 7ms/step - loss: 0.4229 - mae: 0.4914 - val_loss: 0.3941 - val_mae: 0.4773\n",
      "Epoch 19/20\n",
      "\u001b[1m676/676\u001b[0m \u001b[32m━━━━━━━━━━━━━━━━━━━━\u001b[0m\u001b[37m\u001b[0m \u001b[1m6s\u001b[0m 8ms/step - loss: 0.4199 - mae: 0.4874 - val_loss: 0.3949 - val_mae: 0.4709\n",
      "Epoch 20/20\n",
      "\u001b[1m676/676\u001b[0m \u001b[32m━━━━━━━━━━━━━━━━━━━━\u001b[0m\u001b[37m\u001b[0m \u001b[1m5s\u001b[0m 8ms/step - loss: 0.4195 - mae: 0.4885 - val_loss: 0.3986 - val_mae: 0.4719\n"
     ]
    }
   ],
   "source": [
    "history = model.fit(X_train, y_train, epochs=20, validation_data=(X_test, y_test), batch_size=32)"
   ]
  },
  {
   "cell_type": "markdown",
   "metadata": {},
   "source": [
    "-------------------\n",
    "------------------\n",
    "## **6.** **Guardar el Modelo**\n",
    "-------------------\n",
    "------------------"
   ]
  },
  {
   "cell_type": "code",
   "execution_count": 6,
   "metadata": {},
   "outputs": [],
   "source": [
    "model.save('../Models/movie_recommender_model_4.keras')"
   ]
  },
  {
   "cell_type": "markdown",
   "metadata": {},
   "source": [
    "-------------------\n",
    "------------------\n",
    "## **7.** **Visualizar el Proceso de Entrenamiento**\n",
    "-------------------\n",
    "------------------"
   ]
  },
  {
   "cell_type": "code",
   "execution_count": 7,
   "metadata": {},
   "outputs": [
    {
     "data": {
      "image/png": "[encoded data removed]",
      "text/plain": [
       "<Figure size 1200x400 with 2 Axes>"
      ]
     },
     "metadata": {},
     "output_type": "display_data"
    }
   ],
   "source": [
    "# Visualize the Training Process\n",
    "plt.figure(figsize=(12, 4))\n",
    "plt.subplot(1, 2, 1)\n",
    "plt.plot(history.history['loss'])\n",
    "plt.plot(history.history['val_loss'])\n",
    "plt.title('Model Loss')\n",
    "plt.xlabel('Epoch')\n",
    "plt.ylabel('Loss')\n",
    "plt.legend(['Train', 'Test'], loc='upper right')\n",
    "\n",
    "plt.subplot(1, 2, 2)\n",
    "plt.plot(history.history['mae'])\n",
    "plt.plot(history.history['val_mae'])\n",
    "plt.title('Model MAE')\n",
    "plt.xlabel('Epoch')\n",
    "plt.ylabel('MAE')\n",
    "plt.legend(['Train', 'Test'], loc='upper right')\n",
    "\n",
    "plt.show()"
   ]
  },
  {
   "cell_type": "markdown",
   "metadata": {},
   "source": [
    "-------------------\n",
    "------------------\n",
    "## **8.** **Evaluación del Modelo**\n",
    "-------------------\n",
    "------------------"
   ]
  },
  {
   "cell_type": "code",
   "execution_count": 8,
   "metadata": {},
   "outputs": [
    {
     "name": "stdout",
     "output_type": "stream",
     "text": [
      "\u001b[1m169/169\u001b[0m \u001b[32m━━━━━━━━━━━━━━━━━━━━\u001b[0m\u001b[37m\u001b[0m \u001b[1m1s\u001b[0m 6ms/step - loss: 0.3849 - mae: 0.4626\n",
      "Model Loss: 0.3986192047595978, Model MAE: 0.47192445397377014\n",
      "Model Loss: 0.3986192047595978 (12.67%)\n",
      "Model MAE: 0.47192445397377014 (15.00%)\n"
     ]
    }
   ],
   "source": [
    "# Evaluate the model\n",
    "loss, mae = model.evaluate(X_test, y_test)\n",
    "print(f'Model Loss: {loss}, Model MAE: {mae}')\n",
    "\n",
    "# Calculate the mean value of y_test\n",
    "y_test_mean = np.mean(y_test)\n",
    "\n",
    "# Convert the loss to a percentage of the mean value of y_test\n",
    "loss_percentage = (loss / y_test_mean) * 100\n",
    "\n",
    "# Convert the MAE to a percentage of the mean value of y_test\n",
    "mae_percentage = (mae / y_test_mean) * 100\n",
    "\n",
    "print(f'Model Loss: {loss} ({loss_percentage:.2f}%)')\n",
    "print(f'Model MAE: {mae} ({mae_percentage:.2f}%)')"
   ]
  },
  {
   "cell_type": "markdown",
   "metadata": {},
   "source": [
    "-------------------\n",
    "------------------\n",
    "## **9.** **Función de Recomendación Mejorada**\n",
    "-------------------\n",
    "------------------"
   ]
  },
  {
   "cell_type": "code",
   "execution_count": 9,
   "metadata": {},
   "outputs": [
    {
     "name": "stdout",
     "output_type": "stream",
     "text": [
      "Recomendaciones para las emociones 'Joy' y 'Fear':\n"
     ]
    },
    {
     "name": "stdout",
     "output_type": "stream",
     "text": [
      "\u001b[1m1/1\u001b[0m \u001b[32m━━━━━━━━━━━━━━━━━━━━\u001b[0m\u001b[37m\u001b[0m \u001b[1m0s\u001b[0m 234ms/step\n",
      "                                           title  average_rating\n",
      "7049                 Cheaper by the Dozen (2003)        2.827455\n",
      "5055                40 Days and 40 Nights (2002)        2.827500\n",
      "19143                             Bel Ami (2012)        2.827586\n",
      "3831                         Pajama Party (1964)        2.826923\n",
      "25978  Justice League: Throne of Atlantis (2015)        2.826923\n",
      "7816                    This Island Earth (1955)        2.828025\n",
      "4498                      Family Business (1989)        2.826715\n",
      "4944                  Conan the Destroyer (1984)        2.828308\n",
      "10950                                 ATL (2006)        2.826531\n",
      "5317                          Bad Company (2002)        2.828520\n"
     ]
    }
   ],
   "source": [
    "def recommend_movies_embedding(emotion1, emotion2, movies=movies, mlb=mlb, model=model, top_n=10):\n",
    "    emotions = [emotion1, emotion2]\n",
    "    binarized_emotions = mlb.transform([emotions])\n",
    "    predicted_rating = model.predict(binarized_emotions)[0][0]\n",
    "    \n",
    "    # Find movies with ratings close to the prediction\n",
    "    movies['rating_diff'] = abs(movies['average_rating'] - predicted_rating)\n",
    "    recommended_movies = movies.sort_values(by=['rating_diff', 'average_rating'], ascending=[True, False]).head(top_n)\n",
    "    \n",
    "    return recommended_movies[['title', 'average_rating']]\n",
    "\n",
    "# Example recommendation\n",
    "print(\"Recomendaciones para las emociones 'Joy' y 'Fear':\")\n",
    "print(recommend_movies_embedding('Joy', 'Fear'))"
   ]
  }
 ],
 "metadata": {
  "kernelspec": {
   "display_name": ".VenvEmovie",
   "language": "python",
   "name": "python3"
  },
  "language_info": {
   "codemirror_mode": {
    "name": "ipython",
    "version": 3
   },
   "file_extension": ".py",
   "mimetype": "text/x-python",
   "name": "python",
   "nbconvert_exporter": "python",
   "pygments_lexer": "ipython3",
   "version": "3.9.7"
  }
 },
 "nbformat": 4,
 "nbformat_minor": 2
}
